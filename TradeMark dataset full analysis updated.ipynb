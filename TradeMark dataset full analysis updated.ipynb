{
 "cells": [
  {
   "cell_type": "markdown",
   "metadata": {},
   "source": [
    "Emad Siddiq\n",
    "\n",
    "University of California Berkeley \n",
    "\n",
    "emadsiddiq@berkeley.edu \n",
    "\n",
    "Undergraduate Research Apprentice Program\n",
    "\n",
    "# <center>Trademark Dataset Analysis</center>\n",
    "\n",
    "### Notes:\n",
    "• Analysis on the USPTO dataset obtained from the [USPTO website](https://www.uspto.gov/learning-and-resources/electronic-data-products/trademark-case-files-dataset-0).\n",
    "\n",
    "• SEC dataset obtained from Haas School of Business through Dr. Su Li. File can be found in the DropBox.\n",
    "\n",
    "• TF-IDF methodology referenced from [this link](https://bergvca.github.io/2017/10/14/super-fast-string-matching.html) \n",
    "and adapted to match the USPTO dataset with the help of [this StackOverFlow post](https://stackoverflow.com/questions/53827339/string-matching-using-tf-idf-ngrams-and-cosine-similarity-in-python)\n",
    "\n",
    "### Methodology:\n",
    "\n",
    "1) Download owner, case_file and prior_mark files from USPTO website.\n",
    "\n",
    "2) Merge owner, relevant columns from case_file, and prior_mark documents on their serial number column.\n",
    "\n",
    "3) Calculate prior_marks by serial number and add totaal_prior_marks as a new column to the USPTO dataset.\n",
    "\n",
    "4) Use string matching algorithm (TFIDF) to find companies from the SEC List that are a part of the USPTO dataset\n",
    "\n"
   ]
  },
  {
   "cell_type": "markdown",
   "metadata": {},
   "source": [
    "## Part 1: Downloading data"
   ]
  },
  {
   "cell_type": "code",
   "execution_count": 1,
   "metadata": {},
   "outputs": [],
   "source": [
    "import pandas as pd"
   ]
  },
  {
   "cell_type": "code",
   "execution_count": 2,
   "metadata": {},
   "outputs": [
    {
     "name": "stderr",
     "output_type": "stream",
     "text": [
      "/anaconda3/lib/python3.7/site-packages/IPython/core/interactiveshell.py:2785: DtypeWarning: Columns (12) have mixed types. Specify dtype option on import or set low_memory=False.\n",
      "  interactivity=interactivity, compiler=compiler, result=result)\n",
      "/anaconda3/lib/python3.7/site-packages/IPython/core/interactiveshell.py:2785: DtypeWarning: Columns (1,2,7,8,22,36,38,45,47,65,67,68,69,70,71,73,74) have mixed types. Specify dtype option on import or set low_memory=False.\n",
      "  interactivity=interactivity, compiler=compiler, result=result)\n"
     ]
    }
   ],
   "source": [
    "owner = pd.read_csv('owner.csv')\n",
    "case_file = pd.read_csv('case_file.csv')\n",
    "prior_mark = pd.read_csv('prior_mark.csv')"
   ]
  },
  {
   "cell_type": "code",
   "execution_count": 3,
   "metadata": {},
   "outputs": [],
   "source": [
    "#choose relevant columns from owner file\n",
    "owner = owner[['own_addr_1', 'own_addr_city', 'own_entity_cd', 'own_name', 'own_type_cd', 'own_addr_postal', 'serial_no']]"
   ]
  },
  {
   "cell_type": "code",
   "execution_count": 4,
   "metadata": {},
   "outputs": [],
   "source": [
    "#choose relevant columns from case_file\n",
    "case_file = case_file[['serial_no', 'abandon_dt', 'amend_reg_dt','reg_cancel_cd', 'reg_cancel_dt','file_location', 'filing_dt','registration_dt', 'renewal_dt' ]]"
   ]
  },
  {
   "cell_type": "code",
   "execution_count": 5,
   "metadata": {},
   "outputs": [],
   "source": [
    "#group prior_mark by serial number to get the number of prior_marks for each serial_number\n",
    "prior_mark = prior_mark.groupby('serial_no').count().reset_index()"
   ]
  },
  {
   "cell_type": "code",
   "execution_count": 6,
   "metadata": {},
   "outputs": [
    {
     "data": {
      "text/plain": [
       "Index(['serial_no', 'prior_no', 'prior_type_cd', 'rec_error'], dtype='object')"
      ]
     },
     "execution_count": 6,
     "metadata": {},
     "output_type": "execute_result"
    }
   ],
   "source": [
    "prior_mark.columns"
   ]
  },
  {
   "cell_type": "code",
   "execution_count": 7,
   "metadata": {},
   "outputs": [],
   "source": [
    "#drop unnecessary columns and rename columns for readibility\n",
    "prior_mark = prior_mark.drop(columns = ['rec_error','prior_type_cd'])\n",
    "prior_mark = prior_mark.rename(columns = {'prior_no': 'prior_marks'})"
   ]
  },
  {
   "cell_type": "code",
   "execution_count": 8,
   "metadata": {},
   "outputs": [],
   "source": [
    "#merge owner and casefile\n",
    "merged = owner.merge(case_file, on = ['serial_no', 'serial_no'])"
   ]
  },
  {
   "cell_type": "code",
   "execution_count": 9,
   "metadata": {},
   "outputs": [],
   "source": [
    "#merge prior_mark, owner and case_file\n",
    "merged = merged.merge(prior_mark, on = ['serial_no', 'serial_no'])"
   ]
  },
  {
   "cell_type": "code",
   "execution_count": 10,
   "metadata": {},
   "outputs": [],
   "source": [
    "#rename to trademark because merged is an awkward name to have\n",
    "trademark = merged"
   ]
  },
  {
   "cell_type": "code",
   "execution_count": 11,
   "metadata": {},
   "outputs": [],
   "source": [
    "#export to a csv file\n",
    "trademark.to_csv('USPTO_clean_data_1870_to_2019.csv')"
   ]
  },
  {
   "cell_type": "markdown",
   "metadata": {},
   "source": [
    "# Part 2: Use TD-IDF to extract company names"
   ]
  },
  {
   "cell_type": "code",
   "execution_count": 1,
   "metadata": {},
   "outputs": [],
   "source": [
    "import pandas as pd\n",
    "import re\n",
    "import time\n",
    "from sklearn.feature_extraction.text import TfidfVectorizer\n",
    "import sparse_dot_topn.sparse_dot_topn as ct\n",
    "from scipy.sparse import csr_matrix\n",
    "from sparse_dot_topn import awesome_cossim_topn\n",
    "import numpy as np"
   ]
  },
  {
   "cell_type": "code",
   "execution_count": 13,
   "metadata": {},
   "outputs": [
    {
     "name": "stderr",
     "output_type": "stream",
     "text": [
      "/anaconda3/lib/python3.7/site-packages/IPython/core/interactiveshell.py:2785: DtypeWarning: Columns (8,10,11,15) have mixed types. Specify dtype option on import or set low_memory=False.\n",
      "  interactivity=interactivity, compiler=compiler, result=result)\n"
     ]
    }
   ],
   "source": [
    "sec = pd.read_csv('sec_list.csv')\n",
    "trademark = pd.read_csv('USPTO_clean_data_1870_to_2019.csv')"
   ]
  },
  {
   "cell_type": "code",
   "execution_count": 14,
   "metadata": {},
   "outputs": [],
   "source": [
    "#Regex cleaning of both trademark['own_name'] and sec['companyName']\n",
    "\n",
    "#lowercase\n",
    "trademark['own_name_clean'] = trademark['own_name'].str.lower()\n",
    "sec['company_clean'] = sec['companyName'].str.lower()\n",
    "\n",
    "#strip\n",
    "trademark['own_name_clean'] = trademark['own_name_clean'].str.strip()\n",
    "sec['company_clean'] = sec['company_clean'].str.strip()\n",
    "\n",
    "\n",
    "#remove anything that is not a number, a digit(\\d), or a whitespace character (\\s)\n",
    "re_remove = r'[^a-zA-Z\\d\\s]'\n",
    "\n",
    "#remove inc. and anything that follows inc.\n",
    "remove_inc = r' inc.*'\n",
    "\n",
    "#remove ltd. and anything that follows ltd.\n",
    "remove_ltd = r' ltd.*'\n",
    "\n",
    "#remove corp. and anything that follows corp.\n",
    "remove_corp = r' corp.*'\n",
    "\n",
    "#remove anything that matches \"co.\"\n",
    "remove_co = r' co\\.'\n",
    "\n",
    "#remove ''the if its at the beginning or the end of the name\n",
    "remove_the_end = r'the$'\n",
    "remove_the_beg = r'^the'\n",
    "\n",
    "sec['company_clean'] = sec['company_clean'].str.replace(re_remove, '')\n",
    "sec['company_clean'] = sec['company_clean'].str.replace(remove_inc, '')\n",
    "sec['company_clean'] = sec['company_clean'].str.replace(remove_ltd, '')\n",
    "sec['company_clean'] = sec['company_clean'].str.replace(remove_corp, '')\n",
    "trademark['own_name_clean'] = trademark['own_name_clean'].str.replace(re_remove, '')\n",
    "trademark['own_name_clean'] = trademark['own_name_clean'].str.replace(remove_inc, '')\n",
    "trademark['own_name_clean'] = trademark['own_name_clean'].str.replace(remove_ltd, '')\n",
    "trademark['own_name_clean'] = trademark['own_name_clean'].str.replace(remove_corp, '')"
   ]
  },
  {
   "cell_type": "code",
   "execution_count": 15,
   "metadata": {},
   "outputs": [],
   "source": [
    "\"\"\"\n",
    "Function to create ngrams from string entry. \n",
    "\"An n-gram is a contiguous sequence of n items from a given sample of text or speech.\"\n",
    "\"\"\"\n",
    "\n",
    "def ngrams(string, n=3):\n",
    "    string = re.sub(r'[,-./]|\\sBD',r'', string)\n",
    "    ngrams = zip(*[string[i:] for i in range(n)])\n",
    "    return [''.join(ngram) for ngram in ngrams]"
   ]
  },
  {
   "cell_type": "code",
   "execution_count": 16,
   "metadata": {},
   "outputs": [],
   "source": [
    "\"\"\"\n",
    "Use term frequency inverse document frequency to get matches. \n",
    "Read more on this link:\n",
    "https://bergvca.github.io/2017/10/14/super-fast-string-matching.html\n",
    "\n",
    "\"\"\"\n",
    "\n",
    "def get_matches_df(sparse_matrix, A, B, top=100):\n",
    "    non_zeros = sparse_matrix.nonzero()\n",
    "\n",
    "    sparserows = non_zeros[0]\n",
    "    sparsecols = non_zeros[1]\n",
    "\n",
    "    if top:\n",
    "        nr_matches = top\n",
    "    else:\n",
    "        nr_matches = sparsecols.size\n",
    "\n",
    "    left_side = np.empty([nr_matches], dtype=object)\n",
    "    right_side = np.empty([nr_matches], dtype=object)\n",
    "    similairity = np.zeros(nr_matches)\n",
    "\n",
    "    for index in range(0, nr_matches):\n",
    "        left_side[index] = A[sparserows[index]]\n",
    "        right_side[index] = B[sparsecols[index]]\n",
    "        similairity[index] = sparse_matrix.data[index]\n",
    "\n",
    "    return pd.DataFrame({'left_side': left_side,\n",
    "                         'right_side': right_side,\n",
    "                         'similairity': similairity})"
   ]
  },
  {
   "cell_type": "code",
   "execution_count": 17,
   "metadata": {},
   "outputs": [],
   "source": [
    "vectorizer = TfidfVectorizer(min_df=1, analyzer=ngrams)\n",
    "tf_idf_matrix_clean = vectorizer.fit_transform(sec['company_clean'])\n",
    "tf_idf_matrix_dirty = vectorizer.transform(trademark['own_name_clean'])"
   ]
  },
  {
   "cell_type": "code",
   "execution_count": 18,
   "metadata": {},
   "outputs": [
    {
     "name": "stdout",
     "output_type": "stream",
     "text": [
      "SELFTIMED: 93.67338681221008\n"
     ]
    }
   ],
   "source": [
    "t1 = time.time()\n",
    "matches = awesome_cossim_topn(tf_idf_matrix_dirty, tf_idf_matrix_clean.transpose(), 1, 0)\n",
    "t = time.time()-t1\n",
    "print(\"SELFTIMED:\", t)"
   ]
  },
  {
   "cell_type": "code",
   "execution_count": 19,
   "metadata": {},
   "outputs": [],
   "source": [
    "matches_df = get_matches_df(matches, trademark['own_name_clean'], sec['company_clean'], top=0)"
   ]
  },
  {
   "cell_type": "code",
   "execution_count": 20,
   "metadata": {},
   "outputs": [],
   "source": [
    "#Rename for more clarity\n",
    "matches_df = matches_df.rename(columns = {\"left_side\": \"own_name_clean\",\n",
    "                                          \"right_side\": \"company_name_clean\",\n",
    "                                          \"similairity\": \"similarity\"})"
   ]
  },
  {
   "cell_type": "code",
   "execution_count": 21,
   "metadata": {},
   "outputs": [
    {
     "name": "stdout",
     "output_type": "stream",
     "text": [
      "3055199is the current length of the dataset\n"
     ]
    }
   ],
   "source": [
    "print(str(len(matches_df)) + \"is the current length of the dataset\")"
   ]
  },
  {
   "cell_type": "code",
   "execution_count": 22,
   "metadata": {},
   "outputs": [],
   "source": [
    "#Drop duplicates based on own_name_clean since they are redundant\n",
    "matches_df = matches_df.drop_duplicates(subset = 'own_name_clean')"
   ]
  },
  {
   "cell_type": "code",
   "execution_count": 23,
   "metadata": {},
   "outputs": [],
   "source": [
    "#Export resulting dataframe to csv for safekeeping\n",
    "matches_df.to_csv('Matches of SEC list and Trademark data.csv')"
   ]
  },
  {
   "cell_type": "markdown",
   "metadata": {},
   "source": [
    "### Merge trademark with our matches and the SEC companies list"
   ]
  },
  {
   "cell_type": "code",
   "execution_count": 24,
   "metadata": {},
   "outputs": [],
   "source": [
    "trademark = trademark.merge(matches_df, on = ['own_name_clean', 'own_name_clean'])"
   ]
  },
  {
   "cell_type": "code",
   "execution_count": 25,
   "metadata": {},
   "outputs": [],
   "source": [
    "trademark = trademark.merge(sec, left_on = 'company_name_clean', right_on = 'company_clean')"
   ]
  },
  {
   "cell_type": "code",
   "execution_count": 26,
   "metadata": {},
   "outputs": [],
   "source": [
    "trademark = trademark.drop(columns = ['company_clean'])"
   ]
  },
  {
   "cell_type": "code",
   "execution_count": 27,
   "metadata": {},
   "outputs": [],
   "source": [
    "trademark = trademark.rename(columns = {\"companyName\": \"SEC company name\"})"
   ]
  },
  {
   "cell_type": "code",
   "execution_count": 28,
   "metadata": {},
   "outputs": [],
   "source": [
    "#export trademark to csv\n",
    "trademark.to_csv('USPTO_Trademark_Similarity.csv')"
   ]
  },
  {
   "cell_type": "code",
   "execution_count": 29,
   "metadata": {},
   "outputs": [],
   "source": [
    "## Now that we have our matches, we match them with our orginal dataset and choose our threshold by picking random samples and making sure they match"
   ]
  },
  {
   "cell_type": "code",
   "execution_count": 30,
   "metadata": {},
   "outputs": [],
   "source": [
    "company_output = trademark[['own_name', 'SEC company name', 'similarity']]"
   ]
  },
  {
   "cell_type": "code",
   "execution_count": 31,
   "metadata": {},
   "outputs": [],
   "source": [
    "company_output = company_output.drop_duplicates(subset = ['own_name'])"
   ]
  },
  {
   "cell_type": "code",
   "execution_count": 32,
   "metadata": {},
   "outputs": [],
   "source": [
    "company_output = company_output.reset_index(drop = True)"
   ]
  },
  {
   "cell_type": "code",
   "execution_count": 33,
   "metadata": {},
   "outputs": [],
   "source": [
    "company_output.to_csv('Company List matched.csv')"
   ]
  },
  {
   "cell_type": "code",
   "execution_count": 34,
   "metadata": {},
   "outputs": [],
   "source": [
    "over_85_percent = company_output.loc[company_output['similarity'] > 0.85].drop_duplicates()"
   ]
  },
  {
   "cell_type": "code",
   "execution_count": 35,
   "metadata": {},
   "outputs": [],
   "source": [
    "over_85_percent = over_85_percent.sort_values(by = 'similarity', ascending = True)"
   ]
  },
  {
   "cell_type": "code",
   "execution_count": 36,
   "metadata": {},
   "outputs": [],
   "source": [
    "over_85_percent = over_85_percent.reset_index(drop = True)"
   ]
  },
  {
   "cell_type": "code",
   "execution_count": 37,
   "metadata": {},
   "outputs": [
    {
     "data": {
      "text/plain": [
       "8626"
      ]
     },
     "execution_count": 37,
     "metadata": {},
     "output_type": "execute_result"
    }
   ],
   "source": [
    "len(over_85_percent['own_name'])"
   ]
  },
  {
   "cell_type": "code",
   "execution_count": 38,
   "metadata": {},
   "outputs": [],
   "source": [
    "over_85_percent.to_csv('company_list_over_85percent.csv', index = False)"
   ]
  },
  {
   "cell_type": "code",
   "execution_count": 39,
   "metadata": {},
   "outputs": [
    {
     "data": {
      "text/html": [
       "<div>\n",
       "<style scoped>\n",
       "    .dataframe tbody tr th:only-of-type {\n",
       "        vertical-align: middle;\n",
       "    }\n",
       "\n",
       "    .dataframe tbody tr th {\n",
       "        vertical-align: top;\n",
       "    }\n",
       "\n",
       "    .dataframe thead th {\n",
       "        text-align: right;\n",
       "    }\n",
       "</style>\n",
       "<table border=\"1\" class=\"dataframe\">\n",
       "  <thead>\n",
       "    <tr style=\"text-align: right;\">\n",
       "      <th></th>\n",
       "      <th>own_name</th>\n",
       "      <th>SEC company name</th>\n",
       "      <th>similarity</th>\n",
       "    </tr>\n",
       "  </thead>\n",
       "  <tbody>\n",
       "    <tr>\n",
       "      <th>5619</th>\n",
       "      <td>CenturyLink, Inc.</td>\n",
       "      <td>Centurylink, Inc</td>\n",
       "      <td>1.000000</td>\n",
       "    </tr>\n",
       "    <tr>\n",
       "      <th>6997</th>\n",
       "      <td>TransAlta Corporation</td>\n",
       "      <td>TRANSALTA CORP</td>\n",
       "      <td>1.000000</td>\n",
       "    </tr>\n",
       "    <tr>\n",
       "      <th>3110</th>\n",
       "      <td>Thoratec Corporation</td>\n",
       "      <td>Thoratec Corp</td>\n",
       "      <td>1.000000</td>\n",
       "    </tr>\n",
       "    <tr>\n",
       "      <th>4909</th>\n",
       "      <td>MERU NETWORKS, INC.</td>\n",
       "      <td>Meru Networks Inc</td>\n",
       "      <td>1.000000</td>\n",
       "    </tr>\n",
       "    <tr>\n",
       "      <th>5657</th>\n",
       "      <td>LG Display Co., Ltd.</td>\n",
       "      <td>LG Display Co., Ltd.</td>\n",
       "      <td>1.000000</td>\n",
       "    </tr>\n",
       "    <tr>\n",
       "      <th>1970</th>\n",
       "      <td>Hewitt Associates LLC</td>\n",
       "      <td>HEWITT ASSOCIATES INC</td>\n",
       "      <td>0.938469</td>\n",
       "    </tr>\n",
       "    <tr>\n",
       "      <th>4134</th>\n",
       "      <td>PRIMERICA, INC.</td>\n",
       "      <td>Primerica, Inc.</td>\n",
       "      <td>1.000000</td>\n",
       "    </tr>\n",
       "    <tr>\n",
       "      <th>3746</th>\n",
       "      <td>Buckeye Technologies Inc.</td>\n",
       "      <td>BUCKEYE TECHNOLOGIES INC</td>\n",
       "      <td>1.000000</td>\n",
       "    </tr>\n",
       "    <tr>\n",
       "      <th>8136</th>\n",
       "      <td>Rally Software Development Corporation</td>\n",
       "      <td>Rally Software Development Corp</td>\n",
       "      <td>1.000000</td>\n",
       "    </tr>\n",
       "    <tr>\n",
       "      <th>6008</th>\n",
       "      <td>NL INDUSTRIES, INC.</td>\n",
       "      <td>Nl Industries Inc</td>\n",
       "      <td>1.000000</td>\n",
       "    </tr>\n",
       "    <tr>\n",
       "      <th>4123</th>\n",
       "      <td>Optionable, Inc.</td>\n",
       "      <td>Optionable Inc</td>\n",
       "      <td>1.000000</td>\n",
       "    </tr>\n",
       "    <tr>\n",
       "      <th>3642</th>\n",
       "      <td>DOVER DOWNS GAMING &amp; ENTERTAINMENT, INC.</td>\n",
       "      <td>Dover Downs Gaming &amp; Entertainment Inc</td>\n",
       "      <td>1.000000</td>\n",
       "    </tr>\n",
       "    <tr>\n",
       "      <th>3651</th>\n",
       "      <td>Homestreet, Inc.</td>\n",
       "      <td>HomeStreet, Inc.</td>\n",
       "      <td>1.000000</td>\n",
       "    </tr>\n",
       "    <tr>\n",
       "      <th>5309</th>\n",
       "      <td>INFOR (US), INC.</td>\n",
       "      <td>Infor (US), Inc.</td>\n",
       "      <td>1.000000</td>\n",
       "    </tr>\n",
       "    <tr>\n",
       "      <th>6027</th>\n",
       "      <td>ALMOST FAMILY, INC.</td>\n",
       "      <td>Almost Family Inc</td>\n",
       "      <td>1.000000</td>\n",
       "    </tr>\n",
       "    <tr>\n",
       "      <th>8447</th>\n",
       "      <td>Advanced Micro Devices, Inc</td>\n",
       "      <td>Advanced Micro Devices Inc</td>\n",
       "      <td>1.000000</td>\n",
       "    </tr>\n",
       "    <tr>\n",
       "      <th>4402</th>\n",
       "      <td>RingCentral, Inc.</td>\n",
       "      <td>RingCentral Inc</td>\n",
       "      <td>1.000000</td>\n",
       "    </tr>\n",
       "    <tr>\n",
       "      <th>5451</th>\n",
       "      <td>VALEANT PHARMACEUTICALS INTERNATIONAL</td>\n",
       "      <td>Valeant Pharmaceuticals International, Inc.</td>\n",
       "      <td>1.000000</td>\n",
       "    </tr>\n",
       "    <tr>\n",
       "      <th>8076</th>\n",
       "      <td>Baker Hughes Incorporated</td>\n",
       "      <td>Baker Hughes Inc</td>\n",
       "      <td>1.000000</td>\n",
       "    </tr>\n",
       "    <tr>\n",
       "      <th>3407</th>\n",
       "      <td>Apple Inc.</td>\n",
       "      <td>Apple Inc</td>\n",
       "      <td>1.000000</td>\n",
       "    </tr>\n",
       "    <tr>\n",
       "      <th>1977</th>\n",
       "      <td>Foundation Building Materials, LLC</td>\n",
       "      <td>Foundation Building Materials, Inc.</td>\n",
       "      <td>0.938749</td>\n",
       "    </tr>\n",
       "    <tr>\n",
       "      <th>1403</th>\n",
       "      <td>Whirlpool S.A.</td>\n",
       "      <td>Whirlpool Corp /DE/</td>\n",
       "      <td>0.904256</td>\n",
       "    </tr>\n",
       "    <tr>\n",
       "      <th>5018</th>\n",
       "      <td>Evolving Systems, Inc.</td>\n",
       "      <td>Evolving Systems Inc</td>\n",
       "      <td>1.000000</td>\n",
       "    </tr>\n",
       "    <tr>\n",
       "      <th>2494</th>\n",
       "      <td>INTER PARFUMS, INC.</td>\n",
       "      <td>Inter Parfums Inc</td>\n",
       "      <td>1.000000</td>\n",
       "    </tr>\n",
       "    <tr>\n",
       "      <th>4399</th>\n",
       "      <td>QAD Inc.</td>\n",
       "      <td>Qad Inc</td>\n",
       "      <td>1.000000</td>\n",
       "    </tr>\n",
       "    <tr>\n",
       "      <th>5461</th>\n",
       "      <td>Lindsay Corporation</td>\n",
       "      <td>Lindsay Corp</td>\n",
       "      <td>1.000000</td>\n",
       "    </tr>\n",
       "    <tr>\n",
       "      <th>8137</th>\n",
       "      <td>Rally Software Development Corp.</td>\n",
       "      <td>Rally Software Development Corp</td>\n",
       "      <td>1.000000</td>\n",
       "    </tr>\n",
       "    <tr>\n",
       "      <th>5938</th>\n",
       "      <td>LSI CORPORATION</td>\n",
       "      <td>LSI CORP</td>\n",
       "      <td>1.000000</td>\n",
       "    </tr>\n",
       "    <tr>\n",
       "      <th>5483</th>\n",
       "      <td>C&amp;D Technologies, Inc.</td>\n",
       "      <td>C&amp;D TECHNOLOGIES INC</td>\n",
       "      <td>1.000000</td>\n",
       "    </tr>\n",
       "    <tr>\n",
       "      <th>4695</th>\n",
       "      <td>OFFICEMAX INCORPORATED</td>\n",
       "      <td>OFFICEMAX INC</td>\n",
       "      <td>1.000000</td>\n",
       "    </tr>\n",
       "  </tbody>\n",
       "</table>\n",
       "</div>"
      ],
      "text/plain": [
       "                                      own_name  \\\n",
       "5619                         CenturyLink, Inc.   \n",
       "6997                     TransAlta Corporation   \n",
       "3110                      Thoratec Corporation   \n",
       "4909                       MERU NETWORKS, INC.   \n",
       "5657                      LG Display Co., Ltd.   \n",
       "1970                     Hewitt Associates LLC   \n",
       "4134                           PRIMERICA, INC.   \n",
       "3746                 Buckeye Technologies Inc.   \n",
       "8136    Rally Software Development Corporation   \n",
       "6008                       NL INDUSTRIES, INC.   \n",
       "4123                          Optionable, Inc.   \n",
       "3642  DOVER DOWNS GAMING & ENTERTAINMENT, INC.   \n",
       "3651                          Homestreet, Inc.   \n",
       "5309                          INFOR (US), INC.   \n",
       "6027                       ALMOST FAMILY, INC.   \n",
       "8447               Advanced Micro Devices, Inc   \n",
       "4402                         RingCentral, Inc.   \n",
       "5451     VALEANT PHARMACEUTICALS INTERNATIONAL   \n",
       "8076                 Baker Hughes Incorporated   \n",
       "3407                                Apple Inc.   \n",
       "1977        Foundation Building Materials, LLC   \n",
       "1403                            Whirlpool S.A.   \n",
       "5018                    Evolving Systems, Inc.   \n",
       "2494                       INTER PARFUMS, INC.   \n",
       "4399                                  QAD Inc.   \n",
       "5461                       Lindsay Corporation   \n",
       "8137          Rally Software Development Corp.   \n",
       "5938                           LSI CORPORATION   \n",
       "5483                    C&D Technologies, Inc.   \n",
       "4695                    OFFICEMAX INCORPORATED   \n",
       "\n",
       "                                 SEC company name  similarity  \n",
       "5619                             Centurylink, Inc    1.000000  \n",
       "6997                               TRANSALTA CORP    1.000000  \n",
       "3110                                Thoratec Corp    1.000000  \n",
       "4909                            Meru Networks Inc    1.000000  \n",
       "5657                         LG Display Co., Ltd.    1.000000  \n",
       "1970                        HEWITT ASSOCIATES INC    0.938469  \n",
       "4134                              Primerica, Inc.    1.000000  \n",
       "3746                     BUCKEYE TECHNOLOGIES INC    1.000000  \n",
       "8136              Rally Software Development Corp    1.000000  \n",
       "6008                            Nl Industries Inc    1.000000  \n",
       "4123                               Optionable Inc    1.000000  \n",
       "3642       Dover Downs Gaming & Entertainment Inc    1.000000  \n",
       "3651                             HomeStreet, Inc.    1.000000  \n",
       "5309                             Infor (US), Inc.    1.000000  \n",
       "6027                            Almost Family Inc    1.000000  \n",
       "8447                   Advanced Micro Devices Inc    1.000000  \n",
       "4402                              RingCentral Inc    1.000000  \n",
       "5451  Valeant Pharmaceuticals International, Inc.    1.000000  \n",
       "8076                             Baker Hughes Inc    1.000000  \n",
       "3407                                    Apple Inc    1.000000  \n",
       "1977          Foundation Building Materials, Inc.    0.938749  \n",
       "1403                          Whirlpool Corp /DE/    0.904256  \n",
       "5018                         Evolving Systems Inc    1.000000  \n",
       "2494                            Inter Parfums Inc    1.000000  \n",
       "4399                                      Qad Inc    1.000000  \n",
       "5461                                 Lindsay Corp    1.000000  \n",
       "8137              Rally Software Development Corp    1.000000  \n",
       "5938                                     LSI CORP    1.000000  \n",
       "5483                         C&D TECHNOLOGIES INC    1.000000  \n",
       "4695                                OFFICEMAX INC    1.000000  "
      ]
     },
     "execution_count": 39,
     "metadata": {},
     "output_type": "execute_result"
    }
   ],
   "source": [
    "over_85_percent.sample(30)"
   ]
  },
  {
   "cell_type": "code",
   "execution_count": 40,
   "metadata": {},
   "outputs": [],
   "source": [
    "over = over_85_percent.groupby('SEC company name')"
   ]
  },
  {
   "cell_type": "code",
   "execution_count": 41,
   "metadata": {},
   "outputs": [],
   "source": [
    "over = over[['SEC company name', 'own_name', 'similarity']]"
   ]
  },
  {
   "cell_type": "code",
   "execution_count": 42,
   "metadata": {},
   "outputs": [],
   "source": [
    "over.apply(pd.DataFrame.sort_values, 'similarity').reset_index(\n",
    "    drop = True).drop_duplicates().to_csv(\n",
    "    'List_for_manual_matching.csv')"
   ]
  },
  {
   "cell_type": "code",
   "execution_count": 3,
   "metadata": {},
   "outputs": [],
   "source": [
    "manu_match = pd.read_csv('manually_matched.csv')"
   ]
  },
  {
   "cell_type": "code",
   "execution_count": 9,
   "metadata": {},
   "outputs": [],
   "source": [
    "manu_match.loc[manu_match['SEC company name'].str.contains('Ltd') & manu_match['own_name'].str.contains('Inc'), 'Keep? 0 or 1'] = 0"
   ]
  },
  {
   "cell_type": "code",
   "execution_count": 12,
   "metadata": {},
   "outputs": [],
   "source": [
    "manu_match.loc[manu_match['SEC company name'].str.contains('Inc') & manu_match['own_name'].str.contains('Ltd'), 'Keep? 0 or 1'] = 0"
   ]
  },
  {
   "cell_type": "code",
   "execution_count": 16,
   "metadata": {},
   "outputs": [],
   "source": [
    "final_company_list = manu_match.loc[manu_match['Keep? 0 or 1'] == 1]"
   ]
  },
  {
   "cell_type": "code",
   "execution_count": 18,
   "metadata": {},
   "outputs": [],
   "source": [
    "final_company_list = final_company_list.drop(columns = ['Unnamed: 0', 'Unnamed: 5'])"
   ]
  },
  {
   "cell_type": "code",
   "execution_count": 21,
   "metadata": {},
   "outputs": [],
   "source": [
    "final_company_list.to_csv('final_company_list.csv')"
   ]
  },
  {
   "cell_type": "markdown",
   "metadata": {},
   "source": [
    "## The next part of the data analysis includes downloading the daily XML files from the USPTO database\n"
   ]
  },
  {
   "cell_type": "markdown",
   "metadata": {},
   "source": [
    "The USPTO database involves data from the Daily Trademark Application Files found on their online database. The data stores the files in bulk in XML files based on year. The purpose of accessing the daily XML files was to gather case-file-statements in the hopes of getting more insight into why a company files trademark applications. To extract the case file statements, each XML file had to be downloaded individually and then the relevant data downloaded and convereted to a csv format. The code that follows does that. It is to be noted that the script was run on a cloud server to avoid interruption."
   ]
  },
  {
   "cell_type": "code",
   "execution_count": 1,
   "metadata": {},
   "outputs": [],
   "source": [
    "import io,re,os\n",
    "import requests\n",
    "from bs4 import BeautifulSoup\n",
    "import xml.etree.ElementTree as ET\n",
    "import zipfile\n",
    "import pandas as pd\n",
    "from concurrent.futures import ProcessPoolExecutor, as_completed\n",
    "import time\n",
    "\n",
    "\n",
    "def get_zip_links(tm_url):\n",
    "    dl_url = 'http://trademarks.reedtech.com/'\n",
    "    r = rget(tm_url)\n",
    "    soup = BeautifulSoup(r.content,'html5lib')\n",
    "    links = soup.findAll('a')\n",
    "    zip_links = [dl_url + link['href'] for link in links if link['href'].endswith('.zip')]\n",
    "    return zip_links\n",
    "\n",
    "def download(link):\n",
    "    file_name = link.split('/')[-1]\n",
    "    xml_name = file_name[:-3] + \"xml\"\n",
    "    if os.path.isfile(xml_name):\n",
    "        return str(os.getcwd()) + \"/\" + xml_name\n",
    "    r = rget(link)\n",
    "    if r == -1:\n",
    "        return -1\n",
    "    else:\n",
    "        z = zipfile.ZipFile(io.BytesIO(r.content))\n",
    "        z.extractall()\n",
    "        return str(os.getcwd()) + \"/\" + xml_name\n",
    "\n",
    "\n",
    "def rget(link):\n",
    "    try:\n",
    "        time.sleep(3)\n",
    "        r = requests.get(link)\n",
    "    except requests.exceptions.RequestException as e:\n",
    "        print(e)\n",
    "        return -1\n",
    "    else:\n",
    "        return r\n",
    "\n",
    "def parse_xml(xmlfile):\n",
    "    tree = ET.parse(xmlfile)\n",
    "    root = tree.getroot()\n",
    "    return root\n",
    "\n",
    "\n",
    "def extract(root):\n",
    "    trademark = []\n",
    "    reg_element = root.find('application-information').find('file-segments').find('action-keys').find('case-file').find('case-file-statements').find('case-file-statement').find('text').text\n",
    "    if reg_element is None:\n",
    "        pass\n",
    "    else:\n",
    "        for i in root.find('application-information').find('file-segments').find('action-keys').findall('case-file'):\n",
    "            temp = []\n",
    "            serial_no = i.find('serial-number').text\n",
    "            temp.append(serial_no)\n",
    "            reg_text = i.find('case-file-statements').find('case-file-statement').find('text').text\n",
    "            temp.append(reg_text)\n",
    "            trademark.append(temp)\n",
    "    return trademark\n",
    "\n",
    "def delete_file(file_dir):\n",
    "    os.remove(file_dir)\n",
    "\n",
    "\n",
    "def d_and_e(link):\n",
    "    start_time = time.time()\n",
    "    trademark_data = []\n",
    "    directory = download(link)\n",
    "    root = parse_xml(directory)\n",
    "    trademark_data += extract(root)\n",
    "    delete_file(directory)\n",
    "    file_name = link.split('/')[-1]\n",
    "    end_time = time.time()\n",
    "    print(\"Done with \" + file_name + \" in \"  + str((start_time - end_time)/60) + \" minutes\")\n",
    "    return trademark_data"
   ]
  },
  {
   "cell_type": "code",
   "execution_count": null,
   "metadata": {},
   "outputs": [],
   "source": [
    "#Main process to download the files using the above functions\n",
    "links = get_zip_links('http://trademarks.reedtech.com/tmappxml.php#2019/')\n",
    "links = list(set(links))\n",
    "links.sort()\n",
    "links2019 = [i for i in links if i.split('/')[-1][0:5] == (\"apc19\")]\n",
    "\n",
    "links2018 = [i for i in links if i.split('/')[-1][0:5] == (\"apc18\")]\n",
    "\n",
    "links2017 = [i for i in links if i.split('/')[-1][0:5] == (\"apc17\")]\n",
    "\n",
    "with ProcessPoolExecutor(max_workers=6) as executor:\n",
    "    futures = [executor.submit(d_and_e, url) for url in links2019]\n",
    "    results = []\n",
    "    for i in as_completed(futures):\n",
    "        results += i.result()\n",
    "Reasons2019 = pd.DataFrame(results, columns = [\"serial_number\", \"reason\"])\n",
    "Reasons2019.to_csv(\"Reasons2019.csv\")\n",
    "\n",
    "with ProcessPoolExecutor(max_workers=6) as executor:\n",
    "    futures = [executor.submit(d_and_e, url) for url in links2018]\n",
    "    results = []\n",
    "    for i in as_completed(futures):\n",
    "        results += i.result()\n",
    "Reasons2018 = pd.DataFrame(results, columns = [\"serial_number\", \"reason\"])\n",
    "Reasons2018.to_csv(\"Reasons2018.csv\")\n",
    "\n",
    "with ProcessPoolExecutor(max_workers=4) as executor:\n",
    "    futures = [executor.submit(d_and_e, url) for url in links2017]\n",
    "    results = []\n",
    "    for i in as_completed(futures):\n",
    "        results += i.result()\n",
    "Reasons2017 = pd.DataFrame(results, columns = [\"serial_number\", \"reason\"])\n",
    "Reasons2017.to_csv(\"Reasons2017.csv\")\n"
   ]
  },
  {
   "cell_type": "markdown",
   "metadata": {},
   "source": [
    "The case file statements were compiled into one file but never analyzed. All the files can be found in the dropbox folder."
   ]
  },
  {
   "cell_type": "code",
   "execution_count": null,
   "metadata": {},
   "outputs": [],
   "source": []
  }
 ],
 "metadata": {
  "kernelspec": {
   "display_name": "Python 3",
   "language": "python",
   "name": "python3"
  },
  "language_info": {
   "codemirror_mode": {
    "name": "ipython",
    "version": 3
   },
   "file_extension": ".py",
   "mimetype": "text/x-python",
   "name": "python",
   "nbconvert_exporter": "python",
   "pygments_lexer": "ipython3",
   "version": "3.7.4"
  }
 },
 "nbformat": 4,
 "nbformat_minor": 2
}
