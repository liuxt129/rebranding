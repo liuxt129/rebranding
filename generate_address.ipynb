{
 "cells": [
  {
   "cell_type": "code",
   "execution_count": 2,
   "metadata": {},
   "outputs": [
    {
     "name": "stdout",
     "output_type": "stream",
     "text": [
      "['https://bulkdata.uspto.gov/data/trademark/dailyxml/applications/apc18840407-20191231-1.zip', 'https://bulkdata.uspto.gov/data/trademark/dailyxml/applications/apc18840407-20191231-2.zip', 'https://bulkdata.uspto.gov/data/trademark/dailyxml/applications/apc18840407-20191231-3.zip', 'https://bulkdata.uspto.gov/data/trademark/dailyxml/applications/apc18840407-20191231-4.zip', 'https://bulkdata.uspto.gov/data/trademark/dailyxml/applications/apc18840407-20191231-5.zip', 'https://bulkdata.uspto.gov/data/trademark/dailyxml/applications/apc18840407-20191231-6.zip', 'https://bulkdata.uspto.gov/data/trademark/dailyxml/applications/apc18840407-20191231-7.zip', 'https://bulkdata.uspto.gov/data/trademark/dailyxml/applications/apc18840407-20191231-8.zip', 'https://bulkdata.uspto.gov/data/trademark/dailyxml/applications/apc18840407-20191231-9.zip', 'https://bulkdata.uspto.gov/data/trademark/dailyxml/applications/apc18840407-20191231-10.zip', 'https://bulkdata.uspto.gov/data/trademark/dailyxml/applications/apc18840407-20191231-11.zip', 'https://bulkdata.uspto.gov/data/trademark/dailyxml/applications/apc18840407-20191231-12.zip', 'https://bulkdata.uspto.gov/data/trademark/dailyxml/applications/apc18840407-20191231-13.zip', 'https://bulkdata.uspto.gov/data/trademark/dailyxml/applications/apc18840407-20191231-14.zip', 'https://bulkdata.uspto.gov/data/trademark/dailyxml/applications/apc18840407-20191231-15.zip', 'https://bulkdata.uspto.gov/data/trademark/dailyxml/applications/apc18840407-20191231-16.zip', 'https://bulkdata.uspto.gov/data/trademark/dailyxml/applications/apc18840407-20191231-17.zip', 'https://bulkdata.uspto.gov/data/trademark/dailyxml/applications/apc18840407-20191231-18.zip', 'https://bulkdata.uspto.gov/data/trademark/dailyxml/applications/apc18840407-20191231-19.zip', 'https://bulkdata.uspto.gov/data/trademark/dailyxml/applications/apc18840407-20191231-20.zip', 'https://bulkdata.uspto.gov/data/trademark/dailyxml/applications/apc18840407-20191231-21.zip', 'https://bulkdata.uspto.gov/data/trademark/dailyxml/applications/apc18840407-20191231-22.zip', 'https://bulkdata.uspto.gov/data/trademark/dailyxml/applications/apc18840407-20191231-23.zip', 'https://bulkdata.uspto.gov/data/trademark/dailyxml/applications/apc18840407-20191231-24.zip', 'https://bulkdata.uspto.gov/data/trademark/dailyxml/applications/apc18840407-20191231-25.zip', 'https://bulkdata.uspto.gov/data/trademark/dailyxml/applications/apc18840407-20191231-26.zip', 'https://bulkdata.uspto.gov/data/trademark/dailyxml/applications/apc18840407-20191231-27.zip', 'https://bulkdata.uspto.gov/data/trademark/dailyxml/applications/apc18840407-20191231-28.zip', 'https://bulkdata.uspto.gov/data/trademark/dailyxml/applications/apc18840407-20191231-29.zip', 'https://bulkdata.uspto.gov/data/trademark/dailyxml/applications/apc18840407-20191231-30.zip', 'https://bulkdata.uspto.gov/data/trademark/dailyxml/applications/apc18840407-20191231-31.zip', 'https://bulkdata.uspto.gov/data/trademark/dailyxml/applications/apc18840407-20191231-32.zip', 'https://bulkdata.uspto.gov/data/trademark/dailyxml/applications/apc18840407-20191231-33.zip', 'https://bulkdata.uspto.gov/data/trademark/dailyxml/applications/apc18840407-20191231-34.zip', 'https://bulkdata.uspto.gov/data/trademark/dailyxml/applications/apc18840407-20191231-35.zip', 'https://bulkdata.uspto.gov/data/trademark/dailyxml/applications/apc18840407-20191231-36.zip', 'https://bulkdata.uspto.gov/data/trademark/dailyxml/applications/apc18840407-20191231-37.zip', 'https://bulkdata.uspto.gov/data/trademark/dailyxml/applications/apc18840407-20191231-38.zip', 'https://bulkdata.uspto.gov/data/trademark/dailyxml/applications/apc18840407-20191231-39.zip', 'https://bulkdata.uspto.gov/data/trademark/dailyxml/applications/apc18840407-20191231-40.zip', 'https://bulkdata.uspto.gov/data/trademark/dailyxml/applications/apc18840407-20191231-41.zip', 'https://bulkdata.uspto.gov/data/trademark/dailyxml/applications/apc18840407-20191231-42.zip', 'https://bulkdata.uspto.gov/data/trademark/dailyxml/applications/apc18840407-20191231-43.zip', 'https://bulkdata.uspto.gov/data/trademark/dailyxml/applications/apc18840407-20191231-44.zip', 'https://bulkdata.uspto.gov/data/trademark/dailyxml/applications/apc18840407-20191231-45.zip', 'https://bulkdata.uspto.gov/data/trademark/dailyxml/applications/apc18840407-20191231-46.zip', 'https://bulkdata.uspto.gov/data/trademark/dailyxml/applications/apc18840407-20191231-47.zip', 'https://bulkdata.uspto.gov/data/trademark/dailyxml/applications/apc18840407-20191231-48.zip', 'https://bulkdata.uspto.gov/data/trademark/dailyxml/applications/apc18840407-20191231-49.zip', 'https://bulkdata.uspto.gov/data/trademark/dailyxml/applications/apc18840407-20191231-50.zip', 'https://bulkdata.uspto.gov/data/trademark/dailyxml/applications/apc18840407-20191231-51.zip', 'https://bulkdata.uspto.gov/data/trademark/dailyxml/applications/apc18840407-20191231-52.zip', 'https://bulkdata.uspto.gov/data/trademark/dailyxml/applications/apc18840407-20191231-53.zip', 'https://bulkdata.uspto.gov/data/trademark/dailyxml/applications/apc18840407-20191231-54.zip', 'https://bulkdata.uspto.gov/data/trademark/dailyxml/applications/apc18840407-20191231-55.zip', 'https://bulkdata.uspto.gov/data/trademark/dailyxml/applications/apc18840407-20191231-56.zip', 'https://bulkdata.uspto.gov/data/trademark/dailyxml/applications/apc18840407-20191231-57.zip', 'https://bulkdata.uspto.gov/data/trademark/dailyxml/applications/apc18840407-20191231-58.zip', 'https://bulkdata.uspto.gov/data/trademark/dailyxml/applications/apc18840407-20191231-59.zip', 'https://bulkdata.uspto.gov/data/trademark/dailyxml/applications/apc18840407-20191231-60.zip', 'https://bulkdata.uspto.gov/data/trademark/dailyxml/applications/apc18840407-20191231-61.zip', 'https://bulkdata.uspto.gov/data/trademark/dailyxml/applications/apc18840407-20191231-62.zip', 'https://bulkdata.uspto.gov/data/trademark/dailyxml/applications/apc18840407-20191231-63.zip', 'https://bulkdata.uspto.gov/data/trademark/dailyxml/applications/apc18840407-20191231-64.zip', 'https://bulkdata.uspto.gov/data/trademark/dailyxml/applications/apc18840407-20191231-65.zip']\n"
     ]
    }
   ],
   "source": [
    "address = 'https://bulkdata.uspto.gov/data/trademark/dailyxml/applications/apc18840407-20191231-'\n",
    "i = 1\n",
    "url = []\n",
    "while i < 66:\n",
    "    url.append(address + str(i) + '.zip')\n",
    "    i += 1\n",
    "print(url)"
   ]
  },
  {
   "cell_type": "code",
   "execution_count": null,
   "metadata": {},
   "outputs": [],
   "source": []
  }
 ],
 "metadata": {
  "kernelspec": {
   "display_name": "Python 3",
   "language": "python",
   "name": "python3"
  },
  "language_info": {
   "codemirror_mode": {
    "name": "ipython",
    "version": 3
   },
   "file_extension": ".py",
   "mimetype": "text/x-python",
   "name": "python",
   "nbconvert_exporter": "python",
   "pygments_lexer": "ipython3",
   "version": "3.7.4"
  }
 },
 "nbformat": 4,
 "nbformat_minor": 2
}
