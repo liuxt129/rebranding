{
 "cells": [
  {
   "cell_type": "code",
   "execution_count": 1,
   "metadata": {},
   "outputs": [
    {
     "ename": "KeyboardInterrupt",
     "evalue": "",
     "output_type": "error",
     "traceback": [
      "\u001b[0;31m---------------------------------------------------------------------------\u001b[0m",
      "\u001b[0;31mKeyboardInterrupt\u001b[0m                         Traceback (most recent call last)",
      "\u001b[0;32m<ipython-input-1-39707db71231>\u001b[0m in \u001b[0;36m<module>\u001b[0;34m\u001b[0m\n\u001b[1;32m      4\u001b[0m \u001b[0minfile\u001b[0m \u001b[0;34m=\u001b[0m \u001b[0mopen\u001b[0m\u001b[0;34m(\u001b[0m\u001b[0mxml_file\u001b[0m\u001b[0;34m,\u001b[0m\u001b[0;34m\"r\"\u001b[0m\u001b[0;34m)\u001b[0m\u001b[0;34m\u001b[0m\u001b[0;34m\u001b[0m\u001b[0m\n\u001b[1;32m      5\u001b[0m \u001b[0mcontents\u001b[0m \u001b[0;34m=\u001b[0m \u001b[0minfile\u001b[0m\u001b[0;34m.\u001b[0m\u001b[0mread\u001b[0m\u001b[0;34m(\u001b[0m\u001b[0;34m)\u001b[0m\u001b[0;34m\u001b[0m\u001b[0;34m\u001b[0m\u001b[0m\n\u001b[0;32m----> 6\u001b[0;31m \u001b[0msoup\u001b[0m \u001b[0;34m=\u001b[0m \u001b[0mBeautifulSoup\u001b[0m\u001b[0;34m(\u001b[0m\u001b[0mcontents\u001b[0m\u001b[0;34m,\u001b[0m\u001b[0;34m'xml'\u001b[0m\u001b[0;34m)\u001b[0m\u001b[0;34m\u001b[0m\u001b[0;34m\u001b[0m\u001b[0m\n\u001b[0m",
      "\u001b[0;32m~/anaconda3/lib/python3.7/site-packages/bs4/__init__.py\u001b[0m in \u001b[0;36m__init__\u001b[0;34m(self, markup, features, builder, parse_only, from_encoding, exclude_encodings, **kwargs)\u001b[0m\n\u001b[1;32m    301\u001b[0m             \u001b[0mself\u001b[0m\u001b[0;34m.\u001b[0m\u001b[0mreset\u001b[0m\u001b[0;34m(\u001b[0m\u001b[0;34m)\u001b[0m\u001b[0;34m\u001b[0m\u001b[0;34m\u001b[0m\u001b[0m\n\u001b[1;32m    302\u001b[0m             \u001b[0;32mtry\u001b[0m\u001b[0;34m:\u001b[0m\u001b[0;34m\u001b[0m\u001b[0;34m\u001b[0m\u001b[0m\n\u001b[0;32m--> 303\u001b[0;31m                 \u001b[0mself\u001b[0m\u001b[0;34m.\u001b[0m\u001b[0m_feed\u001b[0m\u001b[0;34m(\u001b[0m\u001b[0;34m)\u001b[0m\u001b[0;34m\u001b[0m\u001b[0;34m\u001b[0m\u001b[0m\n\u001b[0m\u001b[1;32m    304\u001b[0m                 \u001b[0;32mbreak\u001b[0m\u001b[0;34m\u001b[0m\u001b[0;34m\u001b[0m\u001b[0m\n\u001b[1;32m    305\u001b[0m             \u001b[0;32mexcept\u001b[0m \u001b[0mParserRejectedMarkup\u001b[0m\u001b[0;34m:\u001b[0m\u001b[0;34m\u001b[0m\u001b[0;34m\u001b[0m\u001b[0m\n",
      "\u001b[0;32m~/anaconda3/lib/python3.7/site-packages/bs4/__init__.py\u001b[0m in \u001b[0;36m_feed\u001b[0;34m(self)\u001b[0m\n\u001b[1;32m    362\u001b[0m         \u001b[0mself\u001b[0m\u001b[0;34m.\u001b[0m\u001b[0mbuilder\u001b[0m\u001b[0;34m.\u001b[0m\u001b[0mreset\u001b[0m\u001b[0;34m(\u001b[0m\u001b[0;34m)\u001b[0m\u001b[0;34m\u001b[0m\u001b[0;34m\u001b[0m\u001b[0m\n\u001b[1;32m    363\u001b[0m \u001b[0;34m\u001b[0m\u001b[0m\n\u001b[0;32m--> 364\u001b[0;31m         \u001b[0mself\u001b[0m\u001b[0;34m.\u001b[0m\u001b[0mbuilder\u001b[0m\u001b[0;34m.\u001b[0m\u001b[0mfeed\u001b[0m\u001b[0;34m(\u001b[0m\u001b[0mself\u001b[0m\u001b[0;34m.\u001b[0m\u001b[0mmarkup\u001b[0m\u001b[0;34m)\u001b[0m\u001b[0;34m\u001b[0m\u001b[0;34m\u001b[0m\u001b[0m\n\u001b[0m\u001b[1;32m    365\u001b[0m         \u001b[0;31m# Close out any unfinished strings and close all the open tags.\u001b[0m\u001b[0;34m\u001b[0m\u001b[0;34m\u001b[0m\u001b[0;34m\u001b[0m\u001b[0m\n\u001b[1;32m    366\u001b[0m         \u001b[0mself\u001b[0m\u001b[0;34m.\u001b[0m\u001b[0mendData\u001b[0m\u001b[0;34m(\u001b[0m\u001b[0;34m)\u001b[0m\u001b[0;34m\u001b[0m\u001b[0;34m\u001b[0m\u001b[0m\n",
      "\u001b[0;32m~/anaconda3/lib/python3.7/site-packages/bs4/builder/_lxml.py\u001b[0m in \u001b[0;36mfeed\u001b[0;34m(self, markup)\u001b[0m\n\u001b[1;32m    167\u001b[0m                 \u001b[0mdata\u001b[0m \u001b[0;34m=\u001b[0m \u001b[0mmarkup\u001b[0m\u001b[0;34m.\u001b[0m\u001b[0mread\u001b[0m\u001b[0;34m(\u001b[0m\u001b[0mself\u001b[0m\u001b[0;34m.\u001b[0m\u001b[0mCHUNK_SIZE\u001b[0m\u001b[0;34m)\u001b[0m\u001b[0;34m\u001b[0m\u001b[0;34m\u001b[0m\u001b[0m\n\u001b[1;32m    168\u001b[0m                 \u001b[0;32mif\u001b[0m \u001b[0mlen\u001b[0m\u001b[0;34m(\u001b[0m\u001b[0mdata\u001b[0m\u001b[0;34m)\u001b[0m \u001b[0;34m!=\u001b[0m \u001b[0;36m0\u001b[0m\u001b[0;34m:\u001b[0m\u001b[0;34m\u001b[0m\u001b[0;34m\u001b[0m\u001b[0m\n\u001b[0;32m--> 169\u001b[0;31m                     \u001b[0mself\u001b[0m\u001b[0;34m.\u001b[0m\u001b[0mparser\u001b[0m\u001b[0;34m.\u001b[0m\u001b[0mfeed\u001b[0m\u001b[0;34m(\u001b[0m\u001b[0mdata\u001b[0m\u001b[0;34m)\u001b[0m\u001b[0;34m\u001b[0m\u001b[0;34m\u001b[0m\u001b[0m\n\u001b[0m\u001b[1;32m    170\u001b[0m             \u001b[0mself\u001b[0m\u001b[0;34m.\u001b[0m\u001b[0mparser\u001b[0m\u001b[0;34m.\u001b[0m\u001b[0mclose\u001b[0m\u001b[0;34m(\u001b[0m\u001b[0;34m)\u001b[0m\u001b[0;34m\u001b[0m\u001b[0;34m\u001b[0m\u001b[0m\n\u001b[1;32m    171\u001b[0m         \u001b[0;32mexcept\u001b[0m \u001b[0;34m(\u001b[0m\u001b[0mUnicodeDecodeError\u001b[0m\u001b[0;34m,\u001b[0m \u001b[0mLookupError\u001b[0m\u001b[0;34m,\u001b[0m \u001b[0metree\u001b[0m\u001b[0;34m.\u001b[0m\u001b[0mParserError\u001b[0m\u001b[0;34m)\u001b[0m \u001b[0;32mas\u001b[0m \u001b[0me\u001b[0m\u001b[0;34m:\u001b[0m\u001b[0;34m\u001b[0m\u001b[0;34m\u001b[0m\u001b[0m\n",
      "\u001b[0;32msrc/lxml/parser.pxi\u001b[0m in \u001b[0;36mlxml.etree._FeedParser.feed\u001b[0;34m()\u001b[0m\n",
      "\u001b[0;32msrc/lxml/parser.pxi\u001b[0m in \u001b[0;36mlxml.etree._FeedParser.feed\u001b[0;34m()\u001b[0m\n",
      "\u001b[0;32msrc/lxml/parsertarget.pxi\u001b[0m in \u001b[0;36mlxml.etree._TargetParserContext._handleParseResult\u001b[0;34m()\u001b[0m\n",
      "\u001b[0;32msrc/lxml/parsertarget.pxi\u001b[0m in \u001b[0;36mlxml.etree._TargetParserContext._handleParseResult\u001b[0;34m()\u001b[0m\n",
      "\u001b[0;32msrc/lxml/etree.pyx\u001b[0m in \u001b[0;36mlxml.etree._ExceptionContext._raise_if_stored\u001b[0;34m()\u001b[0m\n",
      "\u001b[0;32msrc/lxml/saxparser.pxi\u001b[0m in \u001b[0;36mlxml.etree._handleSaxData\u001b[0;34m()\u001b[0m\n",
      "\u001b[0;32msrc/lxml/parsertarget.pxi\u001b[0m in \u001b[0;36mlxml.etree._PythonSaxParserTarget._handleSaxData\u001b[0;34m()\u001b[0m\n",
      "\u001b[0;32m~/anaconda3/lib/python3.7/site-packages/bs4/builder/_lxml.py\u001b[0m in \u001b[0;36mdata\u001b[0;34m(self, content)\u001b[0m\n\u001b[1;32m    251\u001b[0m         \u001b[0mself\u001b[0m\u001b[0;34m.\u001b[0m\u001b[0msoup\u001b[0m\u001b[0;34m.\u001b[0m\u001b[0mendData\u001b[0m\u001b[0;34m(\u001b[0m\u001b[0mself\u001b[0m\u001b[0;34m.\u001b[0m\u001b[0mprocessing_instruction_class\u001b[0m\u001b[0;34m)\u001b[0m\u001b[0;34m\u001b[0m\u001b[0;34m\u001b[0m\u001b[0m\n\u001b[1;32m    252\u001b[0m \u001b[0;34m\u001b[0m\u001b[0m\n\u001b[0;32m--> 253\u001b[0;31m     \u001b[0;32mdef\u001b[0m \u001b[0mdata\u001b[0m\u001b[0;34m(\u001b[0m\u001b[0mself\u001b[0m\u001b[0;34m,\u001b[0m \u001b[0mcontent\u001b[0m\u001b[0;34m)\u001b[0m\u001b[0;34m:\u001b[0m\u001b[0;34m\u001b[0m\u001b[0;34m\u001b[0m\u001b[0m\n\u001b[0m\u001b[1;32m    254\u001b[0m         \u001b[0mself\u001b[0m\u001b[0;34m.\u001b[0m\u001b[0msoup\u001b[0m\u001b[0;34m.\u001b[0m\u001b[0mhandle_data\u001b[0m\u001b[0;34m(\u001b[0m\u001b[0mcontent\u001b[0m\u001b[0;34m)\u001b[0m\u001b[0;34m\u001b[0m\u001b[0;34m\u001b[0m\u001b[0m\n\u001b[1;32m    255\u001b[0m \u001b[0;34m\u001b[0m\u001b[0m\n",
      "\u001b[0;31mKeyboardInterrupt\u001b[0m: "
     ]
    }
   ],
   "source": [
    "from bs4 import BeautifulSoup\n",
    "# load data for 0223\n",
    "xml_file = 'apc200212.xml'\n",
    "infile = open(xml_file,\"r\")\n",
    "contents = infile.read()\n",
    "soup = BeautifulSoup(contents,'xml')"
   ]
  },
  {
   "cell_type": "code",
   "execution_count": null,
   "metadata": {},
   "outputs": [],
   "source": [
    "# find all case files\n",
    "all_cases = soup.find_all(\"case-file\")"
   ]
  },
  {
   "cell_type": "code",
   "execution_count": null,
   "metadata": {
    "scrolled": false
   },
   "outputs": [],
   "source": [
    "len(all_cases)"
   ]
  },
  {
   "cell_type": "code",
   "execution_count": 120,
   "metadata": {
    "scrolled": true
   },
   "outputs": [
    {
     "data": {
      "text/plain": [
       "[<case-file-header>\n",
       " <filing-date>19470717</filing-date>\n",
       " <registration-date>19500110</registration-date>\n",
       " <status-code>800</status-code>\n",
       " <status-date>20200223</status-date>\n",
       " <mark-identification>REALTOR</mark-identification>\n",
       " <mark-drawing-code>1000</mark-drawing-code>\n",
       " <attorney-name>Joseph T. Kucala</attorney-name>\n",
       " <principal-register-amended-in>F</principal-register-amended-in>\n",
       " <supplemental-register-amended-in>F</supplemental-register-amended-in>\n",
       " <trademark-in>F</trademark-in>\n",
       " <collective-trademark-in>F</collective-trademark-in>\n",
       " <service-mark-in>T</service-mark-in>\n",
       " <collective-service-mark-in>F</collective-service-mark-in>\n",
       " <collective-membership-mark-in>F</collective-membership-mark-in>\n",
       " <certification-mark-in>F</certification-mark-in>\n",
       " <cancellation-pending-in>T</cancellation-pending-in>\n",
       " <published-concurrent-in>F</published-concurrent-in>\n",
       " <concurrent-use-in>F</concurrent-use-in>\n",
       " <concurrent-use-proceeding-in>F</concurrent-use-proceeding-in>\n",
       " <interference-pending-in>F</interference-pending-in>\n",
       " <opposition-pending-in>F</opposition-pending-in>\n",
       " <section-12c-in>F</section-12c-in>\n",
       " <section-2f-in>F</section-2f-in>\n",
       " <section-2f-in-part-in>F</section-2f-in-part-in>\n",
       " <renewal-filed-in>F</renewal-filed-in>\n",
       " <section-8-filed-in>F</section-8-filed-in>\n",
       " <section-8-partial-accept-in>F</section-8-partial-accept-in>\n",
       " <section-8-accepted-in>T</section-8-accepted-in>\n",
       " <section-15-acknowledged-in>T</section-15-acknowledged-in>\n",
       " <section-15-filed-in>F</section-15-filed-in>\n",
       " <supplemental-register-in>F</supplemental-register-in>\n",
       " <foreign-priority-in>F</foreign-priority-in>\n",
       " <change-registration-in>F</change-registration-in>\n",
       " <intent-to-use-in>F</intent-to-use-in>\n",
       " <intent-to-use-current-in>F</intent-to-use-current-in>\n",
       " <filed-as-use-application-in>T</filed-as-use-application-in>\n",
       " <amended-to-use-application-in>F</amended-to-use-application-in>\n",
       " <use-application-currently-in>T</use-application-currently-in>\n",
       " <amended-to-itu-application-in>F</amended-to-itu-application-in>\n",
       " <filing-basis-filed-as-44d-in>F</filing-basis-filed-as-44d-in>\n",
       " <amended-to-44d-application-in>F</amended-to-44d-application-in>\n",
       " <filing-basis-current-44d-in>F</filing-basis-current-44d-in>\n",
       " <filing-basis-filed-as-44e-in>F</filing-basis-filed-as-44e-in>\n",
       " <filing-basis-current-44e-in>F</filing-basis-current-44e-in>\n",
       " <amended-to-44e-application-in>F</amended-to-44e-application-in>\n",
       " <without-basis-currently-in>F</without-basis-currently-in>\n",
       " <filing-current-no-basis-in>F</filing-current-no-basis-in>\n",
       " <color-drawing-filed-in>F</color-drawing-filed-in>\n",
       " <color-drawing-current-in>F</color-drawing-current-in>\n",
       " <drawing-3d-filed-in>F</drawing-3d-filed-in>\n",
       " <drawing-3d-current-in>F</drawing-3d-current-in>\n",
       " <standard-characters-claimed-in>F</standard-characters-claimed-in>\n",
       " <filing-basis-filed-as-66a-in>F</filing-basis-filed-as-66a-in>\n",
       " <filing-basis-current-66a-in>F</filing-basis-current-66a-in>\n",
       " <renewal-date>20200110</renewal-date>\n",
       " <current-location>GENERIC WEB UPDATE</current-location>\n",
       " <location-date>20200223</location-date>\n",
       " </case-file-header>]"
      ]
     },
     "execution_count": 120,
     "metadata": {},
     "output_type": "execute_result"
    }
   ],
   "source": [
    "# choose first case as example\n",
    "# find out header\n",
    "all_cases[0].find_all(\"case-file-header\")"
   ]
  },
  {
   "cell_type": "code",
   "execution_count": 121,
   "metadata": {},
   "outputs": [
    {
     "data": {
      "text/plain": [
       "<case-file-event-statement>\n",
       "<code>TCCA</code>\n",
       "<type>I</type>\n",
       "<description-text>TEAS CHANGE OF CORRESPONDENCE RECEIVED</description-text>\n",
       "<date>20200106</date>\n",
       "<number>32</number>\n",
       "</case-file-event-statement>"
      ]
     },
     "execution_count": 121,
     "metadata": {},
     "output_type": "execute_result"
    }
   ],
   "source": [
    "# choose first case, find all event statement for it, choose first event statement as example\n",
    "all_cases[0].find_all(\"case-file-event-statement\")[0]"
   ]
  },
  {
   "cell_type": "code",
   "execution_count": 123,
   "metadata": {},
   "outputs": [
    {
     "data": {
      "text/plain": [
       "<case-file-event-statement>\n",
       "<code>CHAN</code>\n",
       "<type>I</type>\n",
       "<description-text>APPLICANT/CORRESPONDENCE CHANGES (NON-RESPONSIVE) ENTERED</description-text>\n",
       "<date>20200219</date>\n",
       "<number>39</number>\n",
       "</case-file-event-statement>"
      ]
     },
     "execution_count": 123,
     "metadata": {},
     "output_type": "execute_result"
    }
   ],
   "source": [
    "# choose first case, find all event statement for it, choose second event statement as example\n",
    "all_cases[0].find_all(\"case-file-event-statement\")[3]"
   ]
  },
  {
   "cell_type": "code",
   "execution_count": 125,
   "metadata": {},
   "outputs": [
    {
     "data": {
      "text/plain": [
       "[<description-text>REGISTERED AND RENEWED (FIFTH RENEWAL - 10 YRS)</description-text>,\n",
       " <description-text>REGISTERED - SEC. 8 (10-YR) ACCEPTED/SEC. 9 GRANTED</description-text>,\n",
       " <description-text>TEAS CHANGE OF CORRESPONDENCE RECEIVED</description-text>,\n",
       " <description-text>APPLICANT/CORRESPONDENCE CHANGES (NON-RESPONSIVE) ENTERED</description-text>,\n",
       " <description-text>TEAS WITHDRAWAL OF ATTORNEY RECEIVED-FIRM RETAINS</description-text>,\n",
       " <description-text>ATTORNEY/DOM.REP.REVOKED AND/OR APPOINTED</description-text>,\n",
       " <description-text>TEAS REVOKE/APP/CHANGE ADDR OF ATTY/DOM REP RECEIVED</description-text>,\n",
       " <description-text>TEAS CHANGE OF OWNER ADDRESS RECEIVED</description-text>,\n",
       " <description-text>POST REGISTRATION ACTION MAILED - SEC. 8 &amp; 9</description-text>,\n",
       " <description-text>CASE ASSIGNED TO POST REGISTRATION PARALEGAL</description-text>,\n",
       " <description-text>TEAS CHANGE OF CORRESPONDENCE RECEIVED</description-text>,\n",
       " <description-text>TEAS SECTION 8 &amp; 9 RECEIVED</description-text>,\n",
       " <description-text>COURTESY REMINDER - SEC. 8 (10-YR)/SEC. 9 E-MAILED</description-text>,\n",
       " <description-text>TTAB RELEASE CASE TO TRADEMARKS</description-text>,\n",
       " <description-text>CANCELLATION TERMINATED NO. 999999</description-text>,\n",
       " <description-text>CANCELLATION DENIED NO. 999999</description-text>,\n",
       " <description-text>CANCELLATION INSTITUTED NO. 999999</description-text>,\n",
       " <description-text>CASE FILE IN TICRS</description-text>,\n",
       " <description-text>CASE FILE IN TICRS</description-text>,\n",
       " <description-text>REGISTERED AND RENEWED (FOURTH RENEWAL - 10 YRS)</description-text>,\n",
       " <description-text>REGISTERED - SEC. 8 (10-YR) ACCEPTED/SEC. 9 GRANTED</description-text>,\n",
       " <description-text>TEAS SECTION 8 &amp; 9 RECEIVED</description-text>,\n",
       " <description-text>NOTICE OF SUIT</description-text>,\n",
       " <description-text>REVIEW OF CORRESPONDENCE COMPLETE</description-text>,\n",
       " <description-text>PAPER RECEIVED</description-text>,\n",
       " <description-text>CANCELLATION TERMINATED NO. 999999</description-text>,\n",
       " <description-text>CANCELLATION TERMINATED NO. 999999</description-text>,\n",
       " <description-text>CANCELLATION TERMINATED NO. 999999</description-text>,\n",
       " <description-text>CANCELLATION TERMINATED NO. 999999</description-text>,\n",
       " <description-text>CANCELLATION TERMINATED NO. 999999</description-text>,\n",
       " <description-text>PAPER RECEIVED</description-text>,\n",
       " <description-text>CANCELLATION DENIED NO. 999999</description-text>,\n",
       " <description-text>CANCELLATION INSTITUTED NO. 999999</description-text>,\n",
       " <description-text>COUNTERCLAIM OPP. NO. 999999</description-text>,\n",
       " <description-text>REGISTERED - SEC. 8 (10-YR) ACCEPTED/CHECK RECORD FOR SEC. 9</description-text>,\n",
       " <description-text>REGISTERED AND RENEWED (THIRD RENEWAL - 10 YRS)</description-text>,\n",
       " <description-text>REGISTERED - SEC. 9 GRANTED/CHECK RECORD FOR SEC. 8</description-text>,\n",
       " <description-text>REGISTERED - COMBINED SECTION 8 (10-YR) &amp; SEC. 9 FILED</description-text>,\n",
       " <description-text>CANCELLATION INSTITUTED NO. 999999</description-text>,\n",
       " <description-text>REGISTERED AND RENEWED (SECOND RENEWAL - 10 YRS)</description-text>,\n",
       " <description-text>REGISTERED - SEC. 9 FILED/CHECK RECORD FOR SEC. 8</description-text>,\n",
       " <description-text>REGISTERED AND RENEWED (FIRST RENEWAL - 20 YRS)</description-text>]"
      ]
     },
     "execution_count": 125,
     "metadata": {},
     "output_type": "execute_result"
    }
   ],
   "source": [
    "# print out all description text of event statements \n",
    "all_cases[0].find_all(\"description-text\")"
   ]
  },
  {
   "cell_type": "code",
   "execution_count": 127,
   "metadata": {},
   "outputs": [
    {
     "data": {
      "text/plain": [
       "[<date>20200223</date>,\n",
       " <date>20200223</date>,\n",
       " <date>20200219</date>,\n",
       " <date>20200219</date>,\n",
       " <date>20200219</date>,\n",
       " <date>20200219</date>,\n",
       " <date>20200219</date>,\n",
       " <date>20200219</date>,\n",
       " <date>20200214</date>,\n",
       " <date>20200214</date>,\n",
       " <date>20200106</date>,\n",
       " <date>20200106</date>,\n",
       " <date>20190110</date>,\n",
       " <date>20160725</date>,\n",
       " <date>20160725</date>,\n",
       " <date>20160330</date>,\n",
       " <date>20150311</date>,\n",
       " <date>20110525</date>,\n",
       " <date>20110429</date>,\n",
       " <date>20100110</date>,\n",
       " <date>20100110</date>,\n",
       " <date>20100106</date>,\n",
       " <date>20090506</date>,\n",
       " <date>20060921</date>,\n",
       " <date>20050207</date>,\n",
       " <date>20040503</date>,\n",
       " <date>20040503</date>,\n",
       " <date>20040414</date>,\n",
       " <date>20040414</date>,\n",
       " <date>20030717</date>,\n",
       " <date>20030707</date>,\n",
       " <date>20020618</date>,\n",
       " <date>20020115</date>,\n",
       " <date>20000921</date>,\n",
       " <date>20000712</date>,\n",
       " <date>20000712</date>,\n",
       " <date>20000712</date>,\n",
       " <date>19991210</date>,\n",
       " <date>19980813</date>,\n",
       " <date>19900305</date>,\n",
       " <date>19900108</date>,\n",
       " <date>19700110</date>]"
      ]
     },
     "execution_count": 127,
     "metadata": {},
     "output_type": "execute_result"
    }
   ],
   "source": [
    "# print out all description text of event statements \n",
    "all_cases[0].find_all(\"date\")"
   ]
  },
  {
   "cell_type": "code",
   "execution_count": null,
   "metadata": {},
   "outputs": [],
   "source": []
  }
 ],
 "metadata": {
  "kernelspec": {
   "display_name": "Python 3",
   "language": "python",
   "name": "python3"
  },
  "language_info": {
   "codemirror_mode": {
    "name": "ipython",
    "version": 3
   },
   "file_extension": ".py",
   "mimetype": "text/x-python",
   "name": "python",
   "nbconvert_exporter": "python",
   "pygments_lexer": "ipython3",
   "version": "3.7.4"
  }
 },
 "nbformat": 4,
 "nbformat_minor": 2
}
